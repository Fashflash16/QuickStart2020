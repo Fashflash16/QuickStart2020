{
 "cells": [
  {
   "cell_type": "markdown",
   "metadata": {},
   "source": [
    "## Web scrapping using python\n",
    "\n",
    "#### References\n",
    "1. [Practical Introduction to Web Scraping in Python](https://realpython.com/python-web-scraping-practical-introduction/)\n",
    "2. [Web Scraping using Python](https://www.datacamp.com/community/tutorials/web-scraping-using-python)"
   ]
  },
  {
   "cell_type": "code",
   "execution_count": 141,
   "metadata": {},
   "outputs": [],
   "source": [
    "# $ python3 -m venv venv\n",
    "# $ . ./venv/bin/activate"
   ]
  },
  {
   "cell_type": "code",
   "execution_count": 142,
   "metadata": {},
   "outputs": [],
   "source": [
    "#Better\n",
    "#!pip install requests BeautifulSoup4 fire"
   ]
  },
  {
   "cell_type": "code",
   "execution_count": 11,
   "metadata": {},
   "outputs": [],
   "source": [
    "from requests import get\n",
    "from requests.exceptions import RequestException\n",
    "from contextlib import closing\n",
    "from bs4 import BeautifulSoup\n",
    "import pandas as pd\n",
    "import re\n",
    "import os, sys\n",
    "\n",
    "import fire"
   ]
  },
  {
   "cell_type": "code",
   "execution_count": 4,
   "metadata": {},
   "outputs": [],
   "source": [
    "#%%writefile ../pyscrap_url.py\n",
    "\n",
    "def simple_get(url):\n",
    "    \"\"\"\n",
    "    Attempts to get the content at `url` by making an HTTP GET request.\n",
    "    If the content-type of response is some kind of HTML/XML, return the\n",
    "    text content, otherwise return None.\n",
    "    \"\"\"\n",
    "    try:\n",
    "        with closing(get(url, stream=True)) as resp:\n",
    "            if is_good_response(resp):\n",
    "                return resp.content  #.encode(BeautifulSoup.original_encoding)\n",
    "            else:\n",
    "                return None\n",
    "\n",
    "    except RequestException as e:\n",
    "        log_error('Error during requests to {0} : {1}'.format(url, str(e)))\n",
    "        return None\n",
    "\n",
    "\n",
    "def is_good_response(resp):\n",
    "    \"\"\"\n",
    "    Returns True if the response seems to be HTML, False otherwise.\n",
    "    \"\"\"\n",
    "    content_type = resp.headers['Content-Type'].lower()\n",
    "    return (resp.status_code == 200 \n",
    "            and content_type is not None \n",
    "            and content_type.find('html') > -1)\n",
    "\n",
    "\n",
    "def log_error(e):\n",
    "    \"\"\"\n",
    "    It is always a good idea to log errors. \n",
    "    This function just prints them, but you can\n",
    "    make it do anything.\n",
    "    \"\"\"\n",
    "    print(e)\n",
    "    \n",
    "def get_elements(url, tag='',search={}, fname=None):\n",
    "    \"\"\"\n",
    "    Downloads a page specified by the url parameter\n",
    "    and returns a list of strings, one per tag element\n",
    "    \"\"\"\n",
    "    \n",
    "    if isinstance(url,str):\n",
    "        response = simple_get(url)\n",
    "    else:\n",
    "        #if already it is a loaded html page\n",
    "        response = url\n",
    "\n",
    "    if response is not None:\n",
    "        html = BeautifulSoup(response, 'html.parser')\n",
    "        \n",
    "        res = []\n",
    "        if tag:    \n",
    "            for li in html.select(tag):\n",
    "                for name in li.text.split('\\n'):\n",
    "                    if len(name) > 0:\n",
    "                        res.append(name.strip())\n",
    "                       \n",
    "                \n",
    "        if search:\n",
    "            soup = html            \n",
    "            \n",
    "            \n",
    "            r = ''\n",
    "            if 'find' in search.keys():\n",
    "                print('findaing',search['find'])\n",
    "                soup = soup.find(**search['find'])\n",
    "                r = soup\n",
    "\n",
    "                \n",
    "            if 'find_all' in search.keys():\n",
    "                print('findaing all of',search['find_all'])\n",
    "                r = soup.find_all(**search['find_all'])\n",
    "   \n",
    "            if r:\n",
    "                for x in list(r):\n",
    "                    if len(x) > 0:\n",
    "                        res.extend(x)\n",
    "            \n",
    "        return res\n",
    "\n",
    "    # Raise an exception if we failed to get any data from the url\n",
    "    raise Exception('Error retrieving contents at {}'.format(url))    \n",
    "    \n",
    "    \n",
    "if get_ipython().__class__.__name__ == '__main__':\n",
    "    fire(get_tag_elements)"
   ]
  },
  {
   "cell_type": "code",
   "execution_count": 102,
   "metadata": {
    "jupyter": {
     "outputs_hidden": true
    }
   },
   "outputs": [],
   "source": [
    "res = get_elements('https://africafreak.com/100-most-influential-twitter-users-in-africa', tag = 'h2')"
   ]
  },
  {
   "cell_type": "code",
   "execution_count": 135,
   "metadata": {},
   "outputs": [
    {
     "data": {
      "text/plain": [
       "['@gettleman', '@a24media', '@andiMakinana', '@AfricaCheck', '@JamesCopnall']"
      ]
     },
     "execution_count": 135,
     "metadata": {},
     "output_type": "execute_result"
    }
   ],
   "source": [
    "res_cleaned = []\n",
    "for element in res:\n",
    "    if re.findall(\"@\", element):\n",
    "        res_cleaned.append(element)\n",
    "        \n",
    "        \n",
    "df = pd.DataFrame(res_cleaned)\n",
    "df1 = df[0].str.split('@', expand = True)\n",
    "#df2 = df1.set_index(0)\n",
    "influencers = df1[1].tolist()\n",
    "\n",
    "final = []\n",
    "for influencer in influencers:\n",
    "    influencer = influencer.strip(')')\n",
    "    final.append('@'+influencer)\n",
    "    \n",
    "final[:5]"
   ]
  },
  {
   "cell_type": "code",
   "execution_count": 136,
   "metadata": {},
   "outputs": [],
   "source": [
    "import csv"
   ]
  },
  {
   "cell_type": "code",
   "execution_count": 138,
   "metadata": {},
   "outputs": [],
   "source": [
    "file = open('africa_influencers.csv', 'w+', newline = '')\n",
    "\n",
    "with file:\n",
    "    write = csv.writer(file, delimiter = ' ',quotechar='|', quoting=csv.QUOTE_MINIMAL)\n",
    "    write.writerows(final)"
   ]
  },
  {
   "cell_type": "markdown",
   "metadata": {},
   "source": [
    "### 10 Twitter handles from africafreak.com"
   ]
  },
  {
   "cell_type": "code",
   "execution_count": 140,
   "metadata": {},
   "outputs": [
    {
     "data": {
      "text/html": [
       "<div>\n",
       "<style scoped>\n",
       "    .dataframe tbody tr th:only-of-type {\n",
       "        vertical-align: middle;\n",
       "    }\n",
       "\n",
       "    .dataframe tbody tr th {\n",
       "        vertical-align: top;\n",
       "    }\n",
       "\n",
       "    .dataframe thead th {\n",
       "        text-align: right;\n",
       "    }\n",
       "</style>\n",
       "<table border=\"1\" class=\"dataframe\">\n",
       "  <thead>\n",
       "    <tr style=\"text-align: right;\">\n",
       "      <th></th>\n",
       "      <th>Twitter handles</th>\n",
       "    </tr>\n",
       "  </thead>\n",
       "  <tbody>\n",
       "    <tr>\n",
       "      <th>98</th>\n",
       "      <td>@ G a r e t h C l i f f</td>\n",
       "    </tr>\n",
       "    <tr>\n",
       "      <th>69</th>\n",
       "      <td>@ a r t 2 g e e</td>\n",
       "    </tr>\n",
       "    <tr>\n",
       "      <th>70</th>\n",
       "      <td>@ J e n d a y i F r a z e r</td>\n",
       "    </tr>\n",
       "    <tr>\n",
       "      <th>9</th>\n",
       "      <td>@ B r e n d a n S A f r i c a</td>\n",
       "    </tr>\n",
       "    <tr>\n",
       "      <th>15</th>\n",
       "      <td>@ T h e E I U _ A f r i c a</td>\n",
       "    </tr>\n",
       "    <tr>\n",
       "      <th>83</th>\n",
       "      <td>@ C a m f e d</td>\n",
       "    </tr>\n",
       "    <tr>\n",
       "      <th>82</th>\n",
       "      <td>@ B o b S k i n s t a d</td>\n",
       "    </tr>\n",
       "    <tr>\n",
       "      <th>51</th>\n",
       "      <td>@ t h e a f r i c a r e p o r t</td>\n",
       "    </tr>\n",
       "    <tr>\n",
       "      <th>24</th>\n",
       "      <td>@ t _ m c c o n n e l l</td>\n",
       "    </tr>\n",
       "    <tr>\n",
       "      <th>48</th>\n",
       "      <td>@ T h e S t a r _ n e w s</td>\n",
       "    </tr>\n",
       "  </tbody>\n",
       "</table>\n",
       "</div>"
      ],
      "text/plain": [
       "                    Twitter handles\n",
       "98          @ G a r e t h C l i f f\n",
       "69                  @ a r t 2 g e e\n",
       "70      @ J e n d a y i F r a z e r\n",
       "9     @ B r e n d a n S A f r i c a\n",
       "15      @ T h e E I U _ A f r i c a\n",
       "83                    @ C a m f e d\n",
       "82          @ B o b S k i n s t a d\n",
       "51  @ t h e a f r i c a r e p o r t\n",
       "24          @ t _ m c c o n n e l l\n",
       "48        @ T h e S t a r _ n e w s"
      ]
     },
     "execution_count": 140,
     "metadata": {},
     "output_type": "execute_result"
    }
   ],
   "source": [
    "afr_influencers = pd.read_csv('africa_influencers.csv').sample(10)\n",
    "afr_influencers"
   ]
  },
  {
   "cell_type": "code",
   "execution_count": 13,
   "metadata": {},
   "outputs": [],
   "source": [
    "url= 'https://www.atlanticcouncil.org/blogs/africasource/african-leaders-respond-to-coronavirus-on-twitter/#east-africa'\n",
    "response = simple_get(url)"
   ]
  },
  {
   "cell_type": "code",
   "execution_count": 143,
   "metadata": {
    "scrolled": true
   },
   "outputs": [
    {
     "name": "stdout",
     "output_type": "stream",
     "text": [
      "findaing all of {'class_': 'twitter-tweet'}\n"
     ]
    },
    {
     "data": {
      "text/plain": [
       "['@EswatiniGovern1',\n",
       " '@MalawiGovt',\n",
       " '@hagegeingob',\n",
       " '@FinanceSC',\n",
       " '@PresidencyZA']"
      ]
     },
     "execution_count": 143,
     "metadata": {},
     "output_type": "execute_result"
    }
   ],
   "source": [
    "res_gov = get_elements(response, search={'find_all':{'class_':'twitter-tweet'}})\n",
    "\n",
    "res_gov_cleaned = []\n",
    "for element in res_gov:\n",
    "    if \"@\" in element:\n",
    "        res_gov_cleaned.append(element)\n",
    "\n",
    "df_gov = pd.DataFrame(res_gov_cleaned)\n",
    "df1_gov = df_gov[0].str.split('@', expand = True)\n",
    "afr_leaders = df1_gov[1].tolist()\n",
    "\n",
    "leaders_final = []\n",
    "for leader in afr_leaders:\n",
    "    leader = leader.strip()\n",
    "    leader = leader.strip(')')\n",
    "    leaders_final.append('@'+leader)\n",
    "    \n",
    "leaders_final[:5]"
   ]
  },
  {
   "cell_type": "code",
   "execution_count": 144,
   "metadata": {},
   "outputs": [],
   "source": [
    "file1 = open('africa_leaders.csv', 'w+', newline = '')\n",
    "\n",
    "with file1:\n",
    "    write = csv.writer(file1, delimiter = ' ',quotechar='|', quoting=csv.QUOTE_MINIMAL)\n",
    "    write.writerows(leaders_final)"
   ]
  },
  {
   "cell_type": "markdown",
   "metadata": {},
   "source": [
    "### 10 Twitter handles from atlanticcouncil.org"
   ]
  },
  {
   "cell_type": "code",
   "execution_count": 145,
   "metadata": {},
   "outputs": [
    {
     "data": {
      "text/html": [
       "<div>\n",
       "<style scoped>\n",
       "    .dataframe tbody tr th:only-of-type {\n",
       "        vertical-align: middle;\n",
       "    }\n",
       "\n",
       "    .dataframe tbody tr th {\n",
       "        vertical-align: top;\n",
       "    }\n",
       "\n",
       "    .dataframe thead th {\n",
       "        text-align: right;\n",
       "    }\n",
       "</style>\n",
       "<table border=\"1\" class=\"dataframe\">\n",
       "  <thead>\n",
       "    <tr style=\"text-align: right;\">\n",
       "      <th></th>\n",
       "      <th>Twitter handles</th>\n",
       "    </tr>\n",
       "  </thead>\n",
       "  <tbody>\n",
       "    <tr>\n",
       "      <th>17</th>\n",
       "      <td>@ w i l l y n y a m i t w e</td>\n",
       "    </tr>\n",
       "    <tr>\n",
       "      <th>35</th>\n",
       "      <td>@ M S P S _ T o g o</td>\n",
       "    </tr>\n",
       "    <tr>\n",
       "      <th>33</th>\n",
       "      <td>@ M a c k y _ S a l l</td>\n",
       "    </tr>\n",
       "    <tr>\n",
       "      <th>14</th>\n",
       "      <td>@ T Z S p o k e s p e r s o n</td>\n",
       "    </tr>\n",
       "    <tr>\n",
       "      <th>18</th>\n",
       "      <td>@ C h e r i f _ M Z</td>\n",
       "    </tr>\n",
       "    <tr>\n",
       "      <th>10</th>\n",
       "      <td>@ P a u l K a g a m e</td>\n",
       "    </tr>\n",
       "    <tr>\n",
       "      <th>22</th>\n",
       "      <td>@ r o c h k a b o r e p f</td>\n",
       "    </tr>\n",
       "    <tr>\n",
       "      <th>31</th>\n",
       "      <td>@ I s s o u f o u M h m</td>\n",
       "    </tr>\n",
       "    <tr>\n",
       "      <th>1</th>\n",
       "      <td>@ M a l a w i G o v t</td>\n",
       "    </tr>\n",
       "    <tr>\n",
       "      <th>26</th>\n",
       "      <td>@ N A k u f o A d d o</td>\n",
       "    </tr>\n",
       "  </tbody>\n",
       "</table>\n",
       "</div>"
      ],
      "text/plain": [
       "                  Twitter handles\n",
       "17    @ w i l l y n y a m i t w e\n",
       "35            @ M S P S _ T o g o\n",
       "33          @ M a c k y _ S a l l\n",
       "14  @ T Z S p o k e s p e r s o n\n",
       "18            @ C h e r i f _ M Z\n",
       "10          @ P a u l K a g a m e\n",
       "22      @ r o c h k a b o r e p f\n",
       "31        @ I s s o u f o u M h m\n",
       "1           @ M a l a w i G o v t\n",
       "26          @ N A k u f o A d d o"
      ]
     },
     "execution_count": 145,
     "metadata": {},
     "output_type": "execute_result"
    }
   ],
   "source": [
    "afr_leaders = pd.read_csv('africa_leaders.csv').sample(10)\n",
    "afr_leaders"
   ]
  },
  {
   "cell_type": "markdown",
   "metadata": {},
   "source": [
    "## Searching and Downloading Tweets by Africa Influencers and Leaders"
   ]
  },
  {
   "cell_type": "code",
   "execution_count": 112,
   "metadata": {},
   "outputs": [],
   "source": [
    "import json\n",
    "import matplotlib.pyplot as plt\n",
    "import string\n",
    "\n",
    "#Import necessary methods from tweepy library\n",
    "import tweepy\n",
    "from tweepy.streaming import StreamListener\n",
    "from tweepy import OAuthHandler\n",
    "from tweepy import Stream\n",
    "from tweepy import Cursor\n",
    "from tweepy import API\n",
    "\n",
    "#sentiment analysis package\n",
    "from textblob import TextBlob\n",
    "\n",
    "#general text pre-processor\n",
    "#import nltk\n",
    "#from nltk.corpus import stopwords\n",
    "#nltk.download('punkt')\n",
    "\n",
    "#tweet pre-processor\n",
    "import preprocessor as p"
   ]
  },
  {
   "cell_type": "code",
   "execution_count": 154,
   "metadata": {},
   "outputs": [],
   "source": [
    " #Variables that contains the user credentials to access Twitter API \n",
    "consumer_key = '#'\n",
    "consumer_secret = '#'\n",
    "access_token = '#'\n",
    "access_token_secret = '#'\n",
    "            \n",
    "\n",
    "\n",
    "#This handles Twitter authetification and the connection to Twitter Streaming API\n",
    "auth = OAuthHandler(consumer_key, consumer_secret)\n",
    "auth.set_access_token(access_token, access_token_secret)\n",
    "            \n",
    "auth_api = API(auth) "
   ]
  },
  {
   "cell_type": "code",
   "execution_count": 147,
   "metadata": {},
   "outputs": [],
   "source": [
    "#!pip install tabulate\n",
    "from tabulate import tabulate"
   ]
  },
  {
   "cell_type": "code",
   "execution_count": 153,
   "metadata": {},
   "outputs": [
    {
     "name": "stdout",
     "output_type": "stream",
     "text": [
      "GETTING DATA FOR @gettleman\n",
      "Influencer : Jeffrey Gettleman\n",
      "Handle : gettleman\n",
      "tweets_count : 3767\n",
      "following_count : 37\n",
      "followers_count : 25700\n"
     ]
    }
   ],
   "source": [
    "count = 0\n",
    "for influencer in final:\n",
    "    if count < 1:\n",
    "        print ('GETTING DATA FOR ' + influencer)\n",
    "        item = auth_api.get_user(influencer)\n",
    "        print (\"Influencer : \" + item.name)\n",
    "        print(\"Handle : \" + item.screen_name)\n",
    "        print(\"tweets_count : \" + str(item.statuses_count))\n",
    "        print(\"following_count : \" + str(item.friends_count))\n",
    "        print(\"followers_count : \" + str(item.followers_count))\n",
    "        #print(\"Likes : \" + item.favorite_count)\n",
    "        #print(\"Retweets : \" + item.retweets)\n",
    "    count += 1"
   ]
  },
  {
   "cell_type": "markdown",
   "metadata": {},
   "source": [
    "## Web scrapping using bash script\n",
    "If the web site has a quite simple HTML, you can easily use curl to perform the request and then extract the needed values using bash commands grep, cut , sed, ..\n",
    "\n",
    "This tutorial is adapted from [this](https://medium.com/@LiliSousa/web-scraping-with-bash-690e4ee7f98d) medium article"
   ]
  },
  {
   "cell_type": "code",
   "execution_count": 64,
   "metadata": {},
   "outputs": [
    {
     "name": "stdout",
     "output_type": "stream",
     "text": [
      "<blockquote class=\"twitter-tweet\" data-width=\"550\" data-dnt=\"true\"><p lang=\"en\" dir=\"ltr\">The Deputy Prime Minister Themba Masuku has today met representatives of the private sector and employees&#39 <blockquote class=\"twitter-tweet\" data-width=\"550\" data-dnt=\"true\"><p lang=\"en\" dir=\"ltr\">GUIDELINES FOR SCHOOLS IN <a href=\"https://twitter.com/hashtag/MALAWI?src=hash&amp <blockquote class=\"twitter-tweet\" data-width=\"550\" data-dnt=\"true\"><p lang=\"en\" dir=\"ltr\">Fellow Namibians, I declared a State of Emergency on <a href=\"https://twitter.com/hashtag/COVID19?src=hash&amp <blockquote class=\"twitter-tweet\" data-width=\"550\" data-dnt=\"true\"><p lang=\"en\" dir=\"ltr\"><a href=\"https://twitter.com/hashtag/COVID19measuresSC?src=hash&amp <blockquote class=\"twitter-tweet\" data-width=\"550\" data-dnt=\"true\"><p lang=\"en\" dir=\"ltr\">The Minister for Cooperative Governance &amp <blockquote class=\"twitter-tweet\" data-width=\"550\" data-dnt=\"true\"><p lang=\"en\" dir=\"ltr\">Join the <a href=\"https://twitter.com/hashtag/SafeHands?src=hash&amp <blockquote class=\"twitter-tweet\" data-width=\"550\" data-dnt=\"true\"><p lang=\"en\" dir=\"ltr\">I urge my fellow Zimbabweans to maintain excellent levels of personal hygiene. Wash your hands thoroughly with soap, cover your nose &amp <blockquote class=\"twitter-tweet\" data-width=\"550\" data-dnt=\"true\"><p lang=\"fr\" dir=\"ltr\"><a href=\"https://twitter.com/hashtag/COVID19DJ?src=hash&amp <blockquote class=\"twitter-tweet\" data-width=\"550\" data-dnt=\"true\"><p lang=\"en\" dir=\"ltr\">The Ministry of Health announced this evening the first confirmed case of a Coronavirus patient who arrived at Asmara International Airport from Norway with Fly Dubai at 7:00 a.m. LT this morning. The 39-year old patient is an Eritrean national with permanent residence in Norway</p>&mdash <blockquote class=\"twitter-tweet\" data-width=\"550\" data-dnt=\"true\"><p lang=\"en\" dir=\"ltr\">Please join His Excellency President Uhuru Kenyatta this Saturday, 21st March 2020 at 12 noon for a broadcast prayer service to mark the National Day of Prayer on the Coronavirus pandemic. The Service will be led by a cross-section of religious leaders. <a href=\"https://t.co/kDZPDUpeGz\">pic.twitter.com/kDZPDUpeGz</a></p>&mdash <blockquote class=\"twitter-tweet\" data-width=\"550\" data-dnt=\"true\"><p lang=\"en\" dir=\"ltr\">I joined <a href=\"https://twitter.com/WHO?ref_src=twsrc%5Etfw\">@WHO</a> <a href=\"https://twitter.com/hashtag/SafeHands?src=hash&amp <blockquote class=\"twitter-tweet\" data-width=\"550\" data-dnt=\"true\"><p lang=\"en\" dir=\"ltr\">We commend all medical practitioners across the globe working hard to counter the <a href=\"https://twitter.com/hashtag/CoronavirusPandemic?src=hash&amp <blockquote class=\"twitter-tweet\" data-width=\"550\" data-dnt=\"true\"><p lang=\"en\" dir=\"ltr\">20 March 2020: Communication from the <a href=\"https://twitter.com/hashtag/SouthSudan?src=hash&amp <blockquote class=\"twitter-tweet\" data-width=\"550\" data-dnt=\"true\"><p lang=\"en\" dir=\"ltr\">There is no shame in not shaking hands and in social distancing, during these difficult times, we must protect ourselves and those around us.<br>Prevention is the best cure, therefore please be sure to follow health safety and security instructions.<a href=\"https://twitter.com/hashtag/%D8%A7%D8%AD%D8%AA%D9%8A%D8%A7%D8%B7%D8%A7%D8%AA_%D8%A7%D9%84%D8%B3%D9%88%D8%AF%D8%A7%D9%86_%D9%84%D9%85%D9%86%D8%B9_%D9%83%D9%88%D8%B1%D9%88%D9%86%D8%A7?src=hash&amp <blockquote class=\"twitter-tweet\" data-width=\"550\" data-dnt=\"true\"><p lang=\"en\" dir=\"ltr\">We have confirmed first case of Corona patient in Tanzania. The government was prepared with isolation centers and isolation hospitals. More measures to curb the spread will continue to be announced. In the meantime, let us continue to observe health precautions.<br><br>Dr. H.A</p>&mdash <blockquote class=\"twitter-tweet\" data-width=\"550\" data-dnt=\"true\"><p lang=\"en\" dir=\"ltr\">We believe that we can never do enough in the face of corona virus unless God is with us.<br><br>We shall hold prayers as a nation at State House, Entebbe.<br> <br>Join us from wherever you will be <a href=\"https://t.co/voLCrF8nPK\">pic.twitter.com/voLCrF8nPK</a></p>&mdash <blockquote class=\"twitter-tweet\" data-width=\"550\" data-dnt=\"true\"><p lang=\"en\" dir=\"ltr\">Minister Manuel Augusto participating at SADC Council of Ministers Meeting from the Ministry in Luanda through videoconference, due to the Coronavirus outbreak. The meeting was conducted from Dar Es Salaam,Tanzania from 16 to 18/3. Tanzania holds the current presidency of SADC. <a href=\"https://t.co/vOfLwRizKr\">pic.twitter.com/vOfLwRizKr</a></p>&mdash <blockquote class=\"twitter-tweet\" data-width=\"550\" data-dnt=\"true\"><p lang=\"fr\" dir=\"ltr\">🔴 Une rumeur de mauvais goût sur le <a href=\"https://twitter.com/hashtag/coronavirus?src=hash&amp <blockquote class=\"twitter-tweet\" data-width=\"550\" data-dnt=\"true\"><p lang=\"fr\" dir=\"ltr\">La situation du premier patient testé positif au COVID-19 et pris en charge depuis hier par les services médicaux compétents, s&#39 <blockquote class=\"twitter-tweet\" data-width=\"550\" data-dnt=\"true\"><p lang=\"und\" dir=\"ltr\"><a href=\"https://twitter.com/hashtag/RDC?src=hash&amp <blockquote class=\"twitter-tweet\" data-width=\"550\" data-dnt=\"true\"><p lang=\"fr\" dir=\"ltr\">Pour ralentir la diffusion du Covid-19 au Gabon et ainsi en atténuer au maximum l&#39 <blockquote class=\"twitter-tweet\" data-width=\"550\" data-dnt=\"true\"><p lang=\"fr\" dir=\"ltr\">Pour réduire les risques de propagation du <a href=\"https://twitter.com/hashtag/Coronavirus?src=hash&amp <blockquote class=\"twitter-tweet\" data-width=\"550\" data-dnt=\"true\"><p lang=\"fr\" dir=\"ltr\">J&#39 <blockquote class=\"twitter-tweet\" data-width=\"550\" data-dnt=\"true\"><p lang=\"und\" dir=\"ltr\"><a href=\"https://twitter.com/hashtag/preven%C3%A7%C3%A3ocovid19?src=hash&amp <blockquote class=\"twitter-tweet\" data-width=\"550\" data-dnt=\"true\"><p lang=\"fr\" dir=\"ltr\">Mes chers compatriotes, face à la pandémie du Coronavirus COVID-19, adoptons les bonnes pratiques et mettons en application les mesures de prévention recommandées par le Ministère de la Santé et l’OMS. <a href=\"https://t.co/cSxzODR6Vs\">https://t.co/cSxzODR6Vs</a> <a href=\"https://t.co/tILcYxVCf8\">pic.twitter.com/tILcYxVCf8</a></p>&mdash <blockquote class=\"twitter-tweet\" data-width=\"550\" data-dnt=\"true\"><p lang=\"en\" dir=\"ltr\"><a href=\"https://twitter.com/hashtag/COVID19?src=hash&amp <blockquote class=\"twitter-tweet\" data-width=\"550\" data-dnt=\"true\"><p lang=\"en\" dir=\"ltr\">Here are excerpts of my address to the nation on the updates taken to combat the spread of Coronavirus <a href=\"https://t.co/dkfcrrEiy5\">pic.twitter.com/dkfcrrEiy5</a></p>&mdash <blockquote class=\"twitter-tweet\" data-width=\"550\" data-dnt=\"true\"><p lang=\"fr\" dir=\"ltr\">Dans un contexte de crise <a href=\"https://twitter.com/hashtag/sanitaire?src=hash&amp <blockquote class=\"twitter-tweet\" data-width=\"550\" data-dnt=\"true\"><p lang=\"en\" dir=\"ltr\"><a href=\"https://twitter.com/hashtag/GuineaBissau?src=hash&amp <blockquote class=\"twitter-tweet\" data-width=\"550\" data-dnt=\"true\"><p lang=\"fr\" dir=\"ltr\">Communiqué intégrale du Conseil Extraordinaire de Défense présidé ce 17 Mars par le Chef de l’Etat sur le <a href=\"https://twitter.com/hashtag/coronavirus?src=hash&amp <blockquote class=\"twitter-tweet\" data-width=\"550\" data-dnt=\"true\"><p lang=\"fr\" dir=\"ltr\">Chers citoyens et résidents, <br>Un cas de Covid-19 concernant un citoyen étranger ayant été confirmé, je voudrais vous rassurer que les dispositions ont été prises à tous les niveaux. Je vous engage à la prudence et au strict respect des directives des autorités compétentes.</p>&mdash <blockquote class=\"twitter-tweet\" data-width=\"550\" data-dnt=\"true\"><p lang=\"fr\" dir=\"ltr\">Mes Chers Concitoyens, <br>Depuis la grippe Espagnole, il y a un siècle, l’ humanité n’a pas connu un fléau sanitaire d’ une telle ampleur. Je le répète: il n’y a ni traitement, ni vaccin. Notre seule arme reste la prévention. <a href=\"https://t.co/akIhqXETrW\">https://t.co/akIhqXETrW</a></p>&mdash <blockquote class=\"twitter-tweet\" data-width=\"550\" data-dnt=\"true\"><p lang=\"en\" dir=\"ltr\">Protecting Nigerians from the Coronavirus is a key priority for us as a Government. We have the Ministry of Health and the Nigeria Center for Disease Control (NCDC) working round-the-clock with several other agencies, as well as State Governments, to ensure this.</p>&mdash <blockquote class=\"twitter-tweet\" data-width=\"550\" data-dnt=\"true\"><p lang=\"en\" dir=\"ltr\">Dear President <a href=\"https://twitter.com/PaulKagame?ref_src=twsrc%5Etfw\">@PaulKagame</a>, I accept the challenge and encourage all people from Senegal and all contaminated countries to do as well against <a href=\"https://twitter.com/hashtag/COVID19?src=hash&amp <blockquote class=\"twitter-tweet\" data-width=\"550\" data-dnt=\"true\"><p lang=\"en\" dir=\"ltr\">Although there are no confirmed <a href=\"https://twitter.com/hashtag/Coronavirus?src=hash&amp <blockquote class=\"twitter-tweet\" data-width=\"550\" data-dnt=\"true\"><p lang=\"ca\" dir=\"ltr\">Manifestations coronavirus <a href=\"https://t.co/mdjyRWUuoq\">pic.twitter.com/mdjyRWUuoq</a></p>&mdash\n"
     ]
    }
   ],
   "source": [
    "%%bash \n",
    "\n",
    "# curl the page and save content to tmp_file\n",
    "#url = \"https://www.atlanticcouncil.org/blogs/africasource/african-leaders-respond-to-coronavirus-on-twitter/#east-africa\"\n",
    "#curl -X GET $url -o tmp_file\n",
    "\n",
    "\n",
    "#!/bin/bash\n",
    "\n",
    "# write headers to CSV file\n",
    "echo \"Name, twitter_id\" >> extractData.csv\n",
    "n=\"1\"\n",
    "while [ $n -lt 2 ]\n",
    "do\n",
    "  \n",
    "  #get title\n",
    "  title=$(cat tmp_file | grep \"class=\\\"twitter-tweet\\\"\" | cut -d ';' -f1 )\n",
    "  echo $title\n",
    "  #get author\n",
    "  #twitter_id=$(cat tmp_file |grep -A1 \"class=\\\"css-901oao css-16my406 r-1qd0xha r-ad9z0x r-bcqeeo r-qvutc0\\\"\" | tail -1)\n",
    "\n",
    "  #echo \"$title, $twitter_id\" >> extractData.csv\n",
    "  #echo \"$title, $twitter_id\"\n",
    "    \n",
    "  n=$[$n+1]\n",
    "\n",
    "done"
   ]
  }
 ],
 "metadata": {
  "kernelspec": {
   "display_name": "Python 3",
   "language": "python",
   "name": "python3"
  },
  "language_info": {
   "codemirror_mode": {
    "name": "ipython",
    "version": 3
   },
   "file_extension": ".py",
   "mimetype": "text/x-python",
   "name": "python",
   "nbconvert_exporter": "python",
   "pygments_lexer": "ipython3",
   "version": "3.7.6"
  }
 },
 "nbformat": 4,
 "nbformat_minor": 4
}
